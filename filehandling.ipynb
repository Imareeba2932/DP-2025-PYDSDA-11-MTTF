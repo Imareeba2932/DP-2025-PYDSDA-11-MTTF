{
 "cells": [
  {
   "cell_type": "code",
   "execution_count": 1,
   "id": "135a9736",
   "metadata": {},
   "outputs": [
    {
     "name": "stdout",
     "output_type": "stream",
     "text": [
      "Hello Users\n"
     ]
    }
   ],
   "source": [
    "file = open('file.txt','r') #open in read mode\n",
    "print(file.read())"
   ]
  },
  {
   "cell_type": "code",
   "execution_count": 2,
   "id": "0a7984d1",
   "metadata": {},
   "outputs": [
    {
     "name": "stdout",
     "output_type": "stream",
     "text": [
      "File written successfully.\n"
     ]
    }
   ],
   "source": [
    "file = open('file.txt','w') #open in write mode\n",
    "file.write('Hello Buddy')\n",
    "print('File written successfully.')"
   ]
  },
  {
   "cell_type": "code",
   "execution_count": 3,
   "id": "d5108fe1",
   "metadata": {},
   "outputs": [
    {
     "name": "stdout",
     "output_type": "stream",
     "text": [
      "Hello Buddy\n"
     ]
    }
   ],
   "source": [
    "file = open('file.txt','r') #open in read mode\n",
    "print(file.read())"
   ]
  },
  {
   "cell_type": "code",
   "execution_count": 4,
   "id": "9ee2d09f",
   "metadata": {},
   "outputs": [
    {
     "name": "stdout",
     "output_type": "stream",
     "text": [
      "File appended successfully\n"
     ]
    }
   ],
   "source": [
    "file = open('file.txt','a') #open file in append mode\n",
    "file.write('\\nHow are you??')\n",
    "print('File appended successfully')"
   ]
  },
  {
   "cell_type": "code",
   "execution_count": 5,
   "id": "9d04baf8",
   "metadata": {},
   "outputs": [
    {
     "name": "stdout",
     "output_type": "stream",
     "text": [
      "Hello Buddy\n",
      "How are you??\n"
     ]
    }
   ],
   "source": [
    "file = open('file.txt','r') #open in read mode\n",
    "print(file.read())"
   ]
  },
  {
   "cell_type": "code",
   "execution_count": 6,
   "id": "20849e2f",
   "metadata": {},
   "outputs": [],
   "source": [
    "import os"
   ]
  },
  {
   "cell_type": "code",
   "execution_count": 7,
   "id": "96788d7b",
   "metadata": {},
   "outputs": [
    {
     "name": "stdout",
     "output_type": "stream",
     "text": [
      "Current Working Directory c:\\Users\\LENOVO\\Documents\\DP-2025-PYDSDA-11-MTTF\n"
     ]
    }
   ],
   "source": [
    "print('Current Working Directory', os.getcwd())"
   ]
  },
  {
   "cell_type": "code",
   "execution_count": 8,
   "id": "ac8b0adf",
   "metadata": {},
   "outputs": [
    {
     "name": "stdout",
     "output_type": "stream",
     "text": [
      "['.git', 'base.py', 'basics.ipynb', 'conditions.ipynb', 'Data Structure', 'datatypes.ipynb', 'file.txt', 'filehandling.ipynb', 'functions.ipynb', 'libraries.ipynb', 'loops.ipynb', 'operators.ipynb']\n"
     ]
    }
   ],
   "source": [
    "files = os.listdir() #list all files and folders in current working directory\n",
    "print(files)"
   ]
  },
  {
   "cell_type": "code",
   "execution_count": 10,
   "id": "3b1f4397",
   "metadata": {},
   "outputs": [
    {
     "name": "stdout",
     "output_type": "stream",
     "text": [
      "['.git', 'analysis.ipynb', 'Classification', 'Clustering', 'data_preprocessing.ipynb', 'kc_house_data.csv', 'Regression']\n"
     ]
    }
   ],
   "source": [
    "files = os.listdir(r\"C:\\Users\\LENOVO\\Documents\\DP-2025-ML-12.30-MTTFS\") \n",
    "print(files)"
   ]
  },
  {
   "cell_type": "code",
   "execution_count": null,
   "id": "acc3b9cf",
   "metadata": {},
   "outputs": [],
   "source": []
  }
 ],
 "metadata": {
  "kernelspec": {
   "display_name": "base",
   "language": "python",
   "name": "python3"
  },
  "language_info": {
   "codemirror_mode": {
    "name": "ipython",
    "version": 3
   },
   "file_extension": ".py",
   "mimetype": "text/x-python",
   "name": "python",
   "nbconvert_exporter": "python",
   "pygments_lexer": "ipython3",
   "version": "3.12.9"
  }
 },
 "nbformat": 4,
 "nbformat_minor": 5
}
