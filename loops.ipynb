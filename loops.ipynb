{
 "cells": [
  {
   "cell_type": "markdown",
   "id": "15aa6062",
   "metadata": {},
   "source": [
    "loops ka matlab hota h koi kamm baar baar karna bina code baar baar likhe.\n",
    "python m 2 main loops\n",
    "for loop \n",
    "while loop"
   ]
  },
  {
   "cell_type": "markdown",
   "id": "374414fb",
   "metadata": {},
   "source": [
    "for loop\n",
    "for loop ka use hota h jab hume kisi list ya range par baar baar kaam krna ho"
   ]
  },
  {
   "cell_type": "code",
   "execution_count": null,
   "id": "8af15f66",
   "metadata": {},
   "outputs": [
    {
     "name": "stdout",
     "output_type": "stream",
     "text": [
      "1\n",
      "2\n",
      "3\n",
      "4\n",
      "5\n"
     ]
    }
   ],
   "source": [
    "#print number 1 to 5\n",
    "for i in range(1 , 6):\n",
    " print(i)"
   ]
  },
  {
   "cell_type": "code",
   "execution_count": null,
   "id": "49a78c44",
   "metadata": {},
   "outputs": [
    {
     "name": "stdout",
     "output_type": "stream",
     "text": [
      "apple\n",
      "banana\n",
      "cherry\n"
     ]
    }
   ],
   "source": [
    "#list pr loop chlo\n",
    "fruits = [\"apple\",\"banana\",\"cherry\"]\n",
    "\n",
    "for fruits in fruits:\n",
    "    print(fruits)"
   ]
  },
  {
   "cell_type": "markdown",
   "id": "fcba631b",
   "metadata": {},
   "source": [
    "while loop tab chalta hai jab tk koi condition true h "
   ]
  },
  {
   "cell_type": "code",
   "execution_count": 3,
   "id": "be051dfa",
   "metadata": {},
   "outputs": [
    {
     "name": "stdout",
     "output_type": "stream",
     "text": [
      "1\n",
      "2\n",
      "3\n",
      "4\n",
      "5\n"
     ]
    }
   ],
   "source": [
    "i = 1\n",
    "while i <= 5:\n",
    "    print(i)\n",
    "    i = i + 1 "
   ]
  },
  {
   "cell_type": "code",
   "execution_count": 4,
   "id": "d71374a7",
   "metadata": {},
   "outputs": [
    {
     "name": "stdout",
     "output_type": "stream",
     "text": [
      "1 odd h\n",
      "2 even h\n",
      "3 odd h\n",
      "4 even h\n",
      "5 odd h\n"
     ]
    }
   ],
   "source": [
    "for i in range(1 , 6):\n",
    "    if i % 2 == 0:\n",
    "        print(i, \"even h\")\n",
    "    else:\n",
    "        print(i, \"odd h\")    \n"
   ]
  },
  {
   "cell_type": "markdown",
   "id": "c5f5ec12",
   "metadata": {},
   "source": [
    "break loop ko rok deta h\n",
    "continue ek iteration skip karta h "
   ]
  },
  {
   "cell_type": "code",
   "execution_count": 5,
   "id": "62337f0f",
   "metadata": {},
   "outputs": [
    {
     "name": "stdout",
     "output_type": "stream",
     "text": [
      "1\n",
      "2\n",
      "3\n",
      "4\n"
     ]
    }
   ],
   "source": [
    "#break example \n",
    "for i in range(1 , 10):\n",
    "    if i ==5:\n",
    "        break \n",
    "    print(i)"
   ]
  },
  {
   "cell_type": "code",
   "execution_count": 6,
   "id": "50a25b91",
   "metadata": {},
   "outputs": [
    {
     "name": "stdout",
     "output_type": "stream",
     "text": [
      "1\n",
      "2\n",
      "4\n",
      "5\n"
     ]
    }
   ],
   "source": [
    "#continue example\n",
    "for i in range(1 , 6):\n",
    "    if i == 3:\n",
    "        continue\n",
    "    print(i)"
   ]
  },
  {
   "cell_type": "markdown",
   "id": "bd49f03b",
   "metadata": {},
   "source": [
    "Q1- print numbers from 1 to 10 using a loop\n",
    "Q2- print only the even numbers from 1 to 10.\n",
    "Q3- Given a list : fruits = [\"apple\",\"banana\",\"mango\"] print each fruit name using loop\n",
    "Q4- PRINT numbers from 1 to 5 , but skip the number 3.\n",
    "Q5 - print numbers from 1 to 10 , but stop the loop when the number 7 comes.\n",
    "Q6 - Take a number input from the user if its less than 10, use a while loop to print numbers up to 10.\n",
    "Q7 - Given a list names = [\"Neha\",\"Alka\",\"Asad\",\"Sahil\"] print \"Hello\" with each name \n",
    "Q8 - Write a for loop that prints the square of each number from 1 to 5\n",
    "Q9- Write a while loop that starts at 1 and keeping adding 2 until the number is less than 10.\n",
    "Q10- Write a loop that asks the user to enter name until the user types \"stop\". "
   ]
  },
  {
   "cell_type": "code",
   "execution_count": 8,
   "id": "dc58e0b0",
   "metadata": {},
   "outputs": [
    {
     "name": "stdout",
     "output_type": "stream",
     "text": [
      "1\n",
      "2\n",
      "3\n",
      "4\n",
      "5\n",
      "6\n",
      "7\n",
      "8\n",
      "9\n",
      "10\n"
     ]
    }
   ],
   "source": [
    "for i in range(1,11):\n",
    "    print(i)"
   ]
  },
  {
   "cell_type": "code",
   "execution_count": 9,
   "id": "a5675cc8",
   "metadata": {},
   "outputs": [
    {
     "name": "stdout",
     "output_type": "stream",
     "text": [
      "2\n",
      "4\n",
      "6\n",
      "8\n",
      "10\n"
     ]
    }
   ],
   "source": [
    "for i in range (1, 11):\n",
    "    if i % 2 == 0:\n",
    "        print(i)"
   ]
  },
  {
   "cell_type": "code",
   "execution_count": 10,
   "id": "6d084712",
   "metadata": {},
   "outputs": [
    {
     "name": "stdout",
     "output_type": "stream",
     "text": [
      "apple\n",
      "mango\n",
      "banana\n"
     ]
    }
   ],
   "source": [
    "fruits = [\"apple\", \"mango\",\"banana\"]\n",
    "for fruits in fruits:\n",
    "    print(fruits)"
   ]
  },
  {
   "cell_type": "code",
   "execution_count": 12,
   "id": "74da5364",
   "metadata": {},
   "outputs": [
    {
     "name": "stdout",
     "output_type": "stream",
     "text": [
      "1\n",
      "2\n",
      "4\n",
      "5\n"
     ]
    }
   ],
   "source": [
    "for i in range(1 , 6):\n",
    "    if i == 3:\n",
    "        continue\n",
    "    print(i)"
   ]
  },
  {
   "cell_type": "code",
   "execution_count": 16,
   "id": "f218e906",
   "metadata": {},
   "outputs": [
    {
     "name": "stdout",
     "output_type": "stream",
     "text": [
      "1\n",
      "2\n",
      "3\n",
      "4\n",
      "5\n",
      "6\n"
     ]
    },
    {
     "name": "stdout",
     "output_type": "stream",
     "text": [
      "The history saving thread hit an unexpected error (OperationalError('database or disk is full')).History will not be written to the database.\n"
     ]
    }
   ],
   "source": [
    "for i in range(1,10):\n",
    "    if i == 7:\n",
    "        break\n",
    "    print(i)\n",
    "        "
   ]
  },
  {
   "cell_type": "code",
   "execution_count": 18,
   "id": "de793c69",
   "metadata": {},
   "outputs": [],
   "source": [
    "i = int(input(\"enter a number:\"))\n",
    "while i <= 10:\n",
    "    print(i)\n",
    "    i += 1\n",
    "    "
   ]
  },
  {
   "cell_type": "code",
   "execution_count": 19,
   "id": "3a33fb46",
   "metadata": {},
   "outputs": [
    {
     "name": "stdout",
     "output_type": "stream",
     "text": [
      "Hello Neha\n",
      "Hello Alka\n"
     ]
    }
   ],
   "source": [
    "list = [ \"Neha\",\"Alka\"]\n",
    "for list in list:\n",
    "    print(\"Hello\",list)\n"
   ]
  },
  {
   "cell_type": "code",
   "execution_count": 20,
   "id": "107cc2de",
   "metadata": {},
   "outputs": [
    {
     "name": "stdout",
     "output_type": "stream",
     "text": [
      "1\n",
      "4\n",
      "9\n",
      "16\n"
     ]
    }
   ],
   "source": [
    "for i in range(1,5):\n",
    "    print(i**2)"
   ]
  },
  {
   "cell_type": "code",
   "execution_count": 23,
   "id": "a97cdd3b",
   "metadata": {},
   "outputs": [
    {
     "name": "stdout",
     "output_type": "stream",
     "text": [
      "1\n",
      "3\n",
      "5\n",
      "7\n",
      "9\n"
     ]
    }
   ],
   "source": [
    "a=1\n",
    "while a<=10:\n",
    "    print(a)\n",
    "    a=a+2"
   ]
  },
  {
   "cell_type": "code",
   "execution_count": null,
   "id": "00210319",
   "metadata": {},
   "outputs": [],
   "source": []
  },
  {
   "cell_type": "code",
   "execution_count": 19,
   "id": "0ad8a3fa",
   "metadata": {},
   "outputs": [],
   "source": [
    "\n",
    "while i!=\"stop\":\n",
    "    print(\"hello\",i)\n",
    "    i=input(\"enter your name\")\n",
    "    "
   ]
  },
  {
   "cell_type": "code",
   "execution_count": 23,
   "id": "fae7a2b0",
   "metadata": {},
   "outputs": [
    {
     "name": "stdout",
     "output_type": "stream",
     "text": [
      "you entered: alka\n"
     ]
    }
   ],
   "source": [
    "while True:\n",
    "    name = input(\"enter a name(type stop to end)\")\n",
    "    if name == \"stop\":\n",
    "     break\n",
    "    print(\"you entered:\", name)"
   ]
  },
  {
   "cell_type": "code",
   "execution_count": 24,
   "id": "20e6ed0e",
   "metadata": {},
   "outputs": [
    {
     "ename": "ModuleNotFoundError",
     "evalue": "No module named 'pandasai'",
     "output_type": "error",
     "traceback": [
      "\u001b[31m---------------------------------------------------------------------------\u001b[39m",
      "\u001b[31mModuleNotFoundError\u001b[39m                       Traceback (most recent call last)",
      "\u001b[36mCell\u001b[39m\u001b[36m \u001b[39m\u001b[32mIn[24]\u001b[39m\u001b[32m, line 1\u001b[39m\n\u001b[32m----> \u001b[39m\u001b[32m1\u001b[39m \u001b[38;5;28;01mfrom\u001b[39;00m \u001b[34;01mpandasai\u001b[39;00m \u001b[38;5;28;01mimport\u001b[39;00m PandasAI\n\u001b[32m      2\u001b[39m pandas_ai = PandasAI(api_key=\u001b[33m\"\u001b[39m\u001b[33mPAI-53fdc95d-0a2a-49f3-bcc2-f6b60731c1ac\u001b[39m\u001b[33m\"\u001b[39m)\n",
      "\u001b[31mModuleNotFoundError\u001b[39m: No module named 'pandasai'"
     ]
    }
   ],
   "source": [
    "from pandasai import PandasAI\n",
    "pandas_ai = PandasAI(api_key=\"PAI-53fdc95d-0a2a-49f3-bcc2-f6b60731c1ac\")"
   ]
  },
  {
   "cell_type": "code",
   "execution_count": null,
   "id": "10b97fd2",
   "metadata": {},
   "outputs": [],
   "source": []
  }
 ],
 "metadata": {
  "kernelspec": {
   "display_name": "base",
   "language": "python",
   "name": "python3"
  },
  "language_info": {
   "codemirror_mode": {
    "name": "ipython",
    "version": 3
   },
   "file_extension": ".py",
   "mimetype": "text/x-python",
   "name": "python",
   "nbconvert_exporter": "python",
   "pygments_lexer": "ipython3",
   "version": "3.12.9"
  }
 },
 "nbformat": 4,
 "nbformat_minor": 5
}
