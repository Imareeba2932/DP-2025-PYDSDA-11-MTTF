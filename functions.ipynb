{
 "cells": [
  {
   "cell_type": "markdown",
   "id": "34172ca0",
   "metadata": {},
   "source": [
    "- User defined functions\n",
    "    - paramterized function\n",
    "    - non parameterized function\n",
    "    - return function\n",
    "    - non return function\n",
    "    - default parameterized function\n",
    "    - lambda function\n",
    "- Built in function"
   ]
  },
  {
   "cell_type": "code",
   "execution_count": 12,
   "id": "eb23db5e",
   "metadata": {},
   "outputs": [],
   "source": [
    "#non parameterized function\n",
    "def greet(): #function declaration\n",
    "    print(\"Hello users\")\n",
    "    print(\"Welcome to this notebook\")\n",
    "    print(\"Goodbye Thankyou\")\n"
   ]
  },
  {
   "cell_type": "code",
   "execution_count": 13,
   "id": "8ae1ecd8",
   "metadata": {},
   "outputs": [
    {
     "name": "stdout",
     "output_type": "stream",
     "text": [
      "Hello users\n",
      "Welcome to this notebook\n",
      "Goodbye Thankyou\n"
     ]
    }
   ],
   "source": [
    "greet() #function call"
   ]
  },
  {
   "cell_type": "code",
   "execution_count": 14,
   "id": "aac9711c",
   "metadata": {},
   "outputs": [
    {
     "name": "stdout",
     "output_type": "stream",
     "text": [
      "Hello users\n",
      "Welcome to this notebook\n",
      "Goodbye Thankyou\n"
     ]
    }
   ],
   "source": [
    "greet() #function call"
   ]
  },
  {
   "cell_type": "code",
   "execution_count": 15,
   "id": "ca224637",
   "metadata": {},
   "outputs": [
    {
     "name": "stdout",
     "output_type": "stream",
     "text": [
      "30\n"
     ]
    }
   ],
   "source": [
    "#parameterized function\n",
    "def sum(a, b): #parameters\n",
    "    print(a + b)\n",
    "\n",
    "sum(10, 20) #arguments"
   ]
  },
  {
   "cell_type": "markdown",
   "id": "2b5404e8",
   "metadata": {},
   "source": [
    "- define a function to find whether a number is an even number or not\n",
    "- define a function to find the average of 3 numbers\n",
    "- define a function to find the cube of 5"
   ]
  },
  {
   "cell_type": "code",
   "execution_count": null,
   "id": "49c2f388",
   "metadata": {},
   "outputs": [
    {
     "name": "stdout",
     "output_type": "stream",
     "text": [
      "20.0\n",
      "None\n"
     ]
    }
   ],
   "source": [
    "#non return function\n",
    "def avg(a,b,c):\n",
    "    print((a+b+c)/3)\n",
    "\n",
    "average = avg(10,20,30) #arguments\n",
    "print(average)"
   ]
  },
  {
   "cell_type": "code",
   "execution_count": 18,
   "id": "5d8f28b1",
   "metadata": {},
   "outputs": [
    {
     "name": "stdout",
     "output_type": "stream",
     "text": [
      "20.0\n"
     ]
    }
   ],
   "source": [
    "#return function\n",
    "def avg(a,b,c):\n",
    "    return (a+b+c)/3\n",
    "\n",
    "average = avg(10,20,30) #arguments\n",
    "print(average)"
   ]
  },
  {
   "cell_type": "code",
   "execution_count": 19,
   "id": "b71d9c8e",
   "metadata": {},
   "outputs": [
    {
     "name": "stdout",
     "output_type": "stream",
     "text": [
      "20.0\n"
     ]
    }
   ],
   "source": [
    "print(average)"
   ]
  },
  {
   "cell_type": "code",
   "execution_count": 22,
   "id": "a793a682",
   "metadata": {},
   "outputs": [
    {
     "name": "stdout",
     "output_type": "stream",
     "text": [
      "('I love', 'USA')\n",
      "('I love', 'UK')\n",
      "('I love', 'INDIA')\n"
     ]
    }
   ],
   "source": [
    "def my_country(country='INDIA'):\n",
    "    return \"I love\",country\n",
    "\n",
    "print(my_country(\"USA\"))\n",
    "print(my_country(\"UK\"))\n",
    "print(my_country())"
   ]
  },
  {
   "cell_type": "markdown",
   "id": "c03dfa85",
   "metadata": {},
   "source": [
    "LAMBDA FUNCTIONS"
   ]
  },
  {
   "cell_type": "code",
   "execution_count": 24,
   "id": "6493f637",
   "metadata": {},
   "outputs": [
    {
     "data": {
      "text/plain": [
       "25"
      ]
     },
     "execution_count": 24,
     "metadata": {},
     "output_type": "execute_result"
    }
   ],
   "source": [
    "def square(x):\n",
    "    return x**2\n",
    "\n",
    "square(5)"
   ]
  },
  {
   "cell_type": "code",
   "execution_count": 25,
   "id": "2ed6e89c",
   "metadata": {},
   "outputs": [
    {
     "name": "stdout",
     "output_type": "stream",
     "text": [
      "25\n"
     ]
    }
   ],
   "source": [
    "square = lambda x: x**2\n",
    "print(square(5))"
   ]
  },
  {
   "cell_type": "code",
   "execution_count": 27,
   "id": "f9f9b762",
   "metadata": {},
   "outputs": [
    {
     "name": "stdout",
     "output_type": "stream",
     "text": [
      "even\n"
     ]
    }
   ],
   "source": [
    "even = lambda x : 'even' if x%2==0 else 'odd'\n",
    "print(even(10))"
   ]
  },
  {
   "cell_type": "markdown",
   "id": "9fb202b6",
   "metadata": {},
   "source": [
    "- to find the number is prime or not\n",
    "- to take a list of 5 numbers and return a new list with square of each number\n",
    "- to take a list of 10 numbers and return a new list with only even numbers\n",
    "- to check a year is leap or not\n",
    "- to calculate 10% of 200000"
   ]
  },
  {
   "cell_type": "code",
   "execution_count": null,
   "id": "9d6d526d",
   "metadata": {},
   "outputs": [],
   "source": []
  }
 ],
 "metadata": {
  "kernelspec": {
   "display_name": "base",
   "language": "python",
   "name": "python3"
  },
  "language_info": {
   "codemirror_mode": {
    "name": "ipython",
    "version": 3
   },
   "file_extension": ".py",
   "mimetype": "text/x-python",
   "name": "python",
   "nbconvert_exporter": "python",
   "pygments_lexer": "ipython3",
   "version": "3.12.9"
  }
 },
 "nbformat": 4,
 "nbformat_minor": 5
}
