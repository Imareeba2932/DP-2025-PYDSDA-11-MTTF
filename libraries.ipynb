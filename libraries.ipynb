{
 "cells": [
  {
   "cell_type": "code",
   "execution_count": 1,
   "id": "ae423f55",
   "metadata": {},
   "outputs": [],
   "source": [
    "import math"
   ]
  },
  {
   "cell_type": "code",
   "execution_count": 12,
   "id": "e4117445",
   "metadata": {},
   "outputs": [
    {
     "name": "stdout",
     "output_type": "stream",
     "text": [
      "2.23606797749979\n",
      "2\n",
      "84\n",
      "3.141592653589793\n",
      "120\n",
      "8.0\n",
      "2.302585092994046\n",
      "0.8414709848078965\n"
     ]
    }
   ],
   "source": [
    "print(math.sqrt(5))\n",
    "print(math.gcd(10,12))\n",
    "print(math.lcm(12,14))\n",
    "print(math.pi)\n",
    "print(math.factorial(5))\n",
    "print(math.pow(2,3))\n",
    "print(math.log(10))\n",
    "print(math.sin(1))"
   ]
  },
  {
   "cell_type": "code",
   "execution_count": 13,
   "id": "4003ac6a",
   "metadata": {},
   "outputs": [],
   "source": [
    "from random import random, randint, choice, shuffle"
   ]
  },
  {
   "cell_type": "code",
   "execution_count": 28,
   "id": "afe9d865",
   "metadata": {},
   "outputs": [
    {
     "name": "stdout",
     "output_type": "stream",
     "text": [
      "Get a number between 0 and 1 0.09979386186682848\n",
      "Get a number between the given range 16\n",
      "Get a number from my choice 9\n",
      "Shuffled names ['Jane', 'Jill', 'Jack', 'John']\n"
     ]
    }
   ],
   "source": [
    "print(\"Get a number between 0 and 1\", random())\n",
    "print(\"Get a number between the given range\",randint(1,21))\n",
    "print(\"Get a number from my choice\", choice([2,5,4,7,9]))\n",
    "name = ['John','Jane','Jack','Jill']\n",
    "shuffle(name)\n",
    "print('Shuffled names',name)"
   ]
  },
  {
   "cell_type": "code",
   "execution_count": null,
   "id": "8b9458ec",
   "metadata": {},
   "outputs": [],
   "source": [
    "from datetime import datetime as dt #alias"
   ]
  },
  {
   "cell_type": "code",
   "execution_count": 34,
   "id": "231c06cd",
   "metadata": {},
   "outputs": [
    {
     "name": "stdout",
     "output_type": "stream",
     "text": [
      "Current Date and Time 2025-07-28 11:44:07.781955\n"
     ]
    }
   ],
   "source": [
    "print('Current Date and Time', dt.now())"
   ]
  },
  {
   "cell_type": "code",
   "execution_count": 35,
   "id": "196f434b",
   "metadata": {},
   "outputs": [
    {
     "name": "stdout",
     "output_type": "stream",
     "text": [
      "Current Date 2025-07-28\n"
     ]
    }
   ],
   "source": [
    "print('Current Date',dt.now().date())"
   ]
  },
  {
   "cell_type": "code",
   "execution_count": null,
   "id": "c48b99c9",
   "metadata": {},
   "outputs": [
    {
     "name": "stdout",
     "output_type": "stream",
     "text": [
      "Current Time 11:46:10.901413\n"
     ]
    }
   ],
   "source": [
    "print('Current Time',dt.now().time())"
   ]
  },
  {
   "cell_type": "code",
   "execution_count": null,
   "id": "0f772aee",
   "metadata": {},
   "outputs": [
    {
     "name": "stdout",
     "output_type": "stream",
     "text": [
      "Current Year 2025\n",
      "Current Month 7\n",
      "Current Day 28\n",
      "Current Hour 11\n",
      "Current Minute 48\n",
      "Current Second 17\n"
     ]
    }
   ],
   "source": [
    "print('Current Year',dt.now().year)\n",
    "print('Current Month',dt.now().month)\n",
    "print('Current Day', dt.now().day)\n",
    "print('Current Hour', dt.now().hour)\n",
    "print('Current Minute', dt.now().minute)\n",
    "print('Current Second', dt.now().second)"
   ]
  },
  {
   "cell_type": "code",
   "execution_count": null,
   "id": "a00a7e18",
   "metadata": {},
   "outputs": [],
   "source": []
  },
  {
   "cell_type": "code",
   "execution_count": null,
   "id": "00b6e449",
   "metadata": {},
   "outputs": [],
   "source": []
  }
 ],
 "metadata": {
  "kernelspec": {
   "display_name": "base",
   "language": "python",
   "name": "python3"
  },
  "language_info": {
   "codemirror_mode": {
    "name": "ipython",
    "version": 3
   },
   "file_extension": ".py",
   "mimetype": "text/x-python",
   "name": "python",
   "nbconvert_exporter": "python",
   "pygments_lexer": "ipython3",
   "version": "3.12.9"
  }
 },
 "nbformat": 4,
 "nbformat_minor": 5
}
