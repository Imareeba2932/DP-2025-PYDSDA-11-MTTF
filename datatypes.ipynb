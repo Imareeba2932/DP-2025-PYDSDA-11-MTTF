{
 "cells": [
  {
   "cell_type": "code",
   "execution_count": 1,
   "id": "f40f4d59",
   "metadata": {},
   "outputs": [
    {
     "name": "stdout",
     "output_type": "stream",
     "text": [
      "Alice\n"
     ]
    }
   ],
   "source": [
    "name = \"Alice\"\n",
    "print(name)"
   ]
  },
  {
   "cell_type": "code",
   "execution_count": 4,
   "id": "1ea7a7ee",
   "metadata": {},
   "outputs": [
    {
     "name": "stdout",
     "output_type": "stream",
     "text": [
      "Johny johny yes papa\n",
      "eating sugar no papa\n",
      "telling a lie no papa \n",
      "open your mouth hahaha\n"
     ]
    }
   ],
   "source": [
    "#multiline string\n",
    "poem = '''Johny johny yes papa\n",
    "eating sugar no papa\n",
    "telling a lie no papa \n",
    "open your mouth hahaha'''\n",
    "print(poem)"
   ]
  },
  {
   "cell_type": "code",
   "execution_count": 5,
   "id": "1f2411cb",
   "metadata": {},
   "outputs": [
    {
     "name": "stdout",
     "output_type": "stream",
     "text": [
      "['apple', 'mango', 'grapes', 'guava', 'banana']\n"
     ]
    }
   ],
   "source": [
    "fruits = ['apple','mango','grapes','guava','banana']\n",
    "print(fruits)"
   ]
  },
  {
   "cell_type": "code",
   "execution_count": 7,
   "id": "1f0a1d84",
   "metadata": {},
   "outputs": [
    {
     "name": "stdout",
     "output_type": "stream",
     "text": [
      "('apple', 'mango', 'grapes', 'guava', 'banana', 'apple')\n"
     ]
    }
   ],
   "source": [
    "fruits = ('apple','mango','grapes','guava','banana','apple')\n",
    "print(fruits)"
   ]
  },
  {
   "cell_type": "code",
   "execution_count": 8,
   "id": "bf36763c",
   "metadata": {},
   "outputs": [
    {
     "name": "stdout",
     "output_type": "stream",
     "text": [
      "{'mango', 'apple', 'guava', 'grapes', 'banana'}\n"
     ]
    }
   ],
   "source": [
    "fruits = {'apple','mango','grapes','guava','banana','apple'}\n",
    "print(fruits)"
   ]
  },
  {
   "cell_type": "code",
   "execution_count": 9,
   "id": "f517ed5c",
   "metadata": {},
   "outputs": [
    {
     "name": "stdout",
     "output_type": "stream",
     "text": [
      "{'name': 'Alice', 'age': 12, 'class': 5, 'school': 'CMS'}\n"
     ]
    }
   ],
   "source": [
    "student = {\n",
    "    \"name\":\"Alice\",\n",
    "    'age' : 12,\n",
    "    \"class\" : 5,\n",
    "    \"school\" : 'CMS'\n",
    "}\n",
    "print(student)"
   ]
  },
  {
   "cell_type": "code",
   "execution_count": 10,
   "id": "57534683",
   "metadata": {},
   "outputs": [
    {
     "name": "stdout",
     "output_type": "stream",
     "text": [
      "2.5\n"
     ]
    }
   ],
   "source": [
    "a = \"2.5\"\n",
    "print(a)"
   ]
  },
  {
   "cell_type": "code",
   "execution_count": 11,
   "id": "3f79ec74",
   "metadata": {},
   "outputs": [
    {
     "data": {
      "text/plain": [
       "str"
      ]
     },
     "execution_count": 11,
     "metadata": {},
     "output_type": "execute_result"
    }
   ],
   "source": [
    "type(a)"
   ]
  },
  {
   "cell_type": "code",
   "execution_count": 13,
   "id": "98876ec0",
   "metadata": {},
   "outputs": [
    {
     "name": "stdout",
     "output_type": "stream",
     "text": [
      "9\n"
     ]
    }
   ],
   "source": [
    "a = input(\"Enter a number\")\n",
    "print(a)"
   ]
  },
  {
   "cell_type": "markdown",
   "id": "7508a25e",
   "metadata": {},
   "source": [
    "Type Casting"
   ]
  },
  {
   "cell_type": "code",
   "execution_count": 14,
   "id": "685e66b8",
   "metadata": {},
   "outputs": [
    {
     "name": "stdout",
     "output_type": "stream",
     "text": [
      "9\n"
     ]
    }
   ],
   "source": [
    "a = input(\"Enter a number\")\n",
    "b = int(a)\n",
    "print(b)"
   ]
  },
  {
   "cell_type": "code",
   "execution_count": 15,
   "id": "d17fa3c0",
   "metadata": {},
   "outputs": [
    {
     "name": "stdout",
     "output_type": "stream",
     "text": [
      "8\n"
     ]
    }
   ],
   "source": [
    "a = int(input(\"Enter a number\"))\n",
    "print(a)"
   ]
  },
  {
   "cell_type": "code",
   "execution_count": 17,
   "id": "93e74bda",
   "metadata": {},
   "outputs": [
    {
     "name": "stdout",
     "output_type": "stream",
     "text": [
      "12\n"
     ]
    },
    {
     "data": {
      "text/plain": [
       "int"
      ]
     },
     "execution_count": 17,
     "metadata": {},
     "output_type": "execute_result"
    }
   ],
   "source": [
    "a=int(input(\"enter a number\"))\n",
    "print(a)\n",
    "type(a)"
   ]
  },
  {
   "cell_type": "code",
   "execution_count": 25,
   "id": "759833b4",
   "metadata": {},
   "outputs": [
    {
     "name": "stdout",
     "output_type": "stream",
     "text": [
      "False\n"
     ]
    }
   ],
   "source": [
    "a=4\n",
    "print(not a<10)"
   ]
  },
  {
   "cell_type": "code",
   "execution_count": 19,
   "id": "143a3239",
   "metadata": {},
   "outputs": [
    {
     "name": "stdout",
     "output_type": "stream",
     "text": [
      "24389\n"
     ]
    }
   ],
   "source": [
    "a=29\n",
    "z=a**3\n",
    "print(z)"
   ]
  }
 ],
 "metadata": {
  "kernelspec": {
   "display_name": "base",
   "language": "python",
   "name": "python3"
  },
  "language_info": {
   "codemirror_mode": {
    "name": "ipython",
    "version": 3
   },
   "file_extension": ".py",
   "mimetype": "text/x-python",
   "name": "python",
   "nbconvert_exporter": "python",
   "pygments_lexer": "ipython3",
   "version": "3.12.9"
  }
 },
 "nbformat": 4,
 "nbformat_minor": 5
}
