{
 "cells": [
  {
   "cell_type": "code",
   "execution_count": 1,
   "id": "3049fc6a",
   "metadata": {},
   "outputs": [
    {
     "name": "stdout",
     "output_type": "stream",
     "text": [
      "['drive', 'map', 'zomato', 'swiggy', 'uber', 'ola', 'watsap', 'facebook', 'instagram']\n"
     ]
    }
   ],
   "source": [
    "apps = ['drive','map','zomato','swiggy','uber','ola','watsap','facebook','instagram']\n",
    "print(apps)"
   ]
  },
  {
   "cell_type": "code",
   "execution_count": 2,
   "id": "39531560",
   "metadata": {},
   "outputs": [
    {
     "name": "stdout",
     "output_type": "stream",
     "text": [
      "drive*map*zomato*swiggy*uber*ola*watsap*facebook*instagram*"
     ]
    }
   ],
   "source": [
    "for i in apps:\n",
    "    print(i, end=\"*\")"
   ]
  },
  {
   "cell_type": "markdown",
   "id": "3ffef8fe",
   "metadata": {},
   "source": [
    "Indexing and Slicing"
   ]
  },
  {
   "cell_type": "code",
   "execution_count": 3,
   "id": "2ee3b999",
   "metadata": {},
   "outputs": [
    {
     "name": "stdout",
     "output_type": "stream",
     "text": [
      "ola\n",
      "instagram\n"
     ]
    }
   ],
   "source": [
    "print(apps[5])\n",
    "print(apps[8])"
   ]
  },
  {
   "cell_type": "code",
   "execution_count": 4,
   "id": "4fed7b6e",
   "metadata": {},
   "outputs": [
    {
     "name": "stdout",
     "output_type": "stream",
     "text": [
      "facebook\n",
      "swiggy\n"
     ]
    }
   ],
   "source": [
    "print(apps[-2])\n",
    "print(apps[-6])"
   ]
  },
  {
   "cell_type": "code",
   "execution_count": 5,
   "id": "f6aab7d8",
   "metadata": {},
   "outputs": [
    {
     "name": "stdout",
     "output_type": "stream",
     "text": [
      "['drive', 'map', 'zomato', 'swiggy', 'uber', 'ola', 'watsap', 'facebook', 'instagram']\n",
      "['zomato', 'swiggy', 'uber', 'ola', 'watsap', 'facebook']\n",
      "['zomato', 'uber', 'watsap', 'instagram']\n",
      "['drive', 'map', 'zomato', 'swiggy', 'uber', 'ola', 'watsap', 'facebook']\n",
      "['swiggy', 'uber', 'ola', 'watsap', 'facebook', 'instagram']\n",
      "['ola', 'watsap', 'facebook', 'instagram']\n"
     ]
    }
   ],
   "source": [
    "print(apps[:]) #it will give you a complete list\n",
    "print(apps[2:8])\n",
    "print(apps[2:9:2])\n",
    "print(apps[:8])\n",
    "print(apps[3:])\n",
    "print(apps[-4:])"
   ]
  },
  {
   "cell_type": "markdown",
   "id": "0a7cc77a",
   "metadata": {},
   "source": [
    "LIST METHODS\n",
    "- append() - to add item at the end of the list\n",
    "- insert() - to add item at any specific position in the list\n",
    "- pop() - to delete item using its index position\n",
    "- remove() - to delete items using item name\n",
    "- copy() - to make a duplicate of the list\n",
    "- sort() - to sort the list in a particular order\n",
    "- extend() - to combine two list into a single list\n",
    "- clear() - to delete all the items from the list but not the list"
   ]
  },
  {
   "cell_type": "code",
   "execution_count": 9,
   "id": "99fabef4",
   "metadata": {},
   "outputs": [
    {
     "name": "stdout",
     "output_type": "stream",
     "text": [
      "['drive', 'map', 'Amazon', 'zomato', 'swiggy', 'uber', 'ola', 'watsap', 'facebook', 'instagram', 'Netflix', 'Netflix']\n"
     ]
    }
   ],
   "source": [
    "apps.append('Netflix')\n",
    "print(apps)"
   ]
  },
  {
   "cell_type": "code",
   "execution_count": 10,
   "id": "988e7ad6",
   "metadata": {},
   "outputs": [
    {
     "name": "stdout",
     "output_type": "stream",
     "text": [
      "['drive', 'map', 'Amazon', 'Amazon', 'zomato', 'swiggy', 'uber', 'ola', 'watsap', 'facebook', 'instagram', 'Netflix', 'Netflix']\n"
     ]
    }
   ],
   "source": [
    "apps.insert(2, 'Amazon')\n",
    "print(apps)"
   ]
  },
  {
   "cell_type": "code",
   "execution_count": 11,
   "id": "b0d93cf6",
   "metadata": {},
   "outputs": [
    {
     "name": "stdout",
     "output_type": "stream",
     "text": [
      "['drive', 'map', 'Amazon', 'zomato', 'swiggy', 'uber', 'ola', 'watsap', 'facebook', 'instagram', 'Netflix', 'Netflix']\n"
     ]
    }
   ],
   "source": [
    "apps.pop(2)\n",
    "print(apps)"
   ]
  },
  {
   "cell_type": "code",
   "execution_count": 12,
   "id": "62ee7802",
   "metadata": {},
   "outputs": [
    {
     "name": "stdout",
     "output_type": "stream",
     "text": [
      "['drive', 'map', 'Amazon', 'zomato', 'swiggy', 'uber', 'ola', 'watsap', 'facebook', 'instagram', 'Netflix']\n"
     ]
    }
   ],
   "source": [
    "apps.remove('Netflix')\n",
    "print(apps)"
   ]
  },
  {
   "cell_type": "code",
   "execution_count": 13,
   "id": "38e1172f",
   "metadata": {},
   "outputs": [
    {
     "name": "stdout",
     "output_type": "stream",
     "text": [
      "['drive', 'map', 'Amazon', 'zomato', 'swiggy', 'uber', 'ola', 'watsap', 'facebook', 'instagram', 'Netflix']\n"
     ]
    }
   ],
   "source": [
    "copy_list = apps.copy()\n",
    "print(copy_list)"
   ]
  },
  {
   "cell_type": "code",
   "execution_count": 14,
   "id": "bfc0a899",
   "metadata": {},
   "outputs": [
    {
     "name": "stdout",
     "output_type": "stream",
     "text": [
      "[]\n"
     ]
    }
   ],
   "source": [
    "copy_list.clear()\n",
    "print(copy_list)"
   ]
  },
  {
   "cell_type": "code",
   "execution_count": 15,
   "id": "224e215a",
   "metadata": {},
   "outputs": [
    {
     "name": "stdout",
     "output_type": "stream",
     "text": [
      "['Amazon', 'Netflix', 'drive', 'facebook', 'instagram', 'map', 'ola', 'swiggy', 'uber', 'watsap', 'zomato']\n"
     ]
    }
   ],
   "source": [
    "apps.sort()\n",
    "print(apps)"
   ]
  },
  {
   "cell_type": "code",
   "execution_count": 17,
   "id": "39ae68ec",
   "metadata": {},
   "outputs": [
    {
     "name": "stdout",
     "output_type": "stream",
     "text": [
      "['Snapchat', 'Twitter', 'LinkedIn']\n"
     ]
    }
   ],
   "source": [
    "apps2 = ['Snapchat', 'Twitter', 'LinkedIn']\n",
    "print(apps2)"
   ]
  },
  {
   "cell_type": "code",
   "execution_count": 18,
   "id": "8ee27e1b",
   "metadata": {},
   "outputs": [
    {
     "name": "stdout",
     "output_type": "stream",
     "text": [
      "['Amazon', 'Netflix', 'drive', 'facebook', 'instagram', 'map', 'ola', 'swiggy', 'uber', 'watsap', 'zomato', 'Snapchat', 'Twitter', 'LinkedIn']\n"
     ]
    }
   ],
   "source": [
    "apps.extend(apps2)\n",
    "print(apps)"
   ]
  },
  {
   "cell_type": "code",
   "execution_count": 19,
   "id": "da50b654",
   "metadata": {},
   "outputs": [
    {
     "name": "stdout",
     "output_type": "stream",
     "text": [
      "['Snapchat', 'Twitter', 'LinkedIn', 'Amazon', 'Netflix', 'drive', 'facebook', 'instagram', 'map', 'ola', 'swiggy', 'uber', 'watsap', 'zomato', 'Snapchat', 'Twitter', 'LinkedIn']\n"
     ]
    }
   ],
   "source": [
    "apps2.extend(apps)\n",
    "print(apps2)"
   ]
  },
  {
   "cell_type": "code",
   "execution_count": 1,
   "id": "fdc1a085",
   "metadata": {},
   "outputs": [
    {
     "name": "stdout",
     "output_type": "stream",
     "text": [
      "{'lucknow': [35, 40, 45], 'delhi': [30, 35, 40], 'mumbai': [28, 30, 32], 'chennai': [30, 32, 34]}\n"
     ]
    }
   ],
   "source": [
    "temp = {\n",
    "    'lucknow' : [35,40,45],\n",
    "    'delhi' : [30,35,40],\n",
    "    'mumbai' : [28,30,32],\n",
    "    'chennai' : [30,32,34],\n",
    "}\n",
    "print(temp)"
   ]
  },
  {
   "cell_type": "code",
   "execution_count": 2,
   "id": "f6b963b1",
   "metadata": {},
   "outputs": [
    {
     "data": {
      "text/plain": [
       "35.0"
      ]
     },
     "execution_count": 2,
     "metadata": {},
     "output_type": "execute_result"
    }
   ],
   "source": [
    "sum(temp['delhi'])/len(temp['delhi'])"
   ]
  },
  {
   "cell_type": "code",
   "execution_count": null,
   "id": "7f8a84ac",
   "metadata": {},
   "outputs": [],
   "source": []
  }
 ],
 "metadata": {
  "kernelspec": {
   "display_name": "base",
   "language": "python",
   "name": "python3"
  },
  "language_info": {
   "codemirror_mode": {
    "name": "ipython",
    "version": 3
   },
   "file_extension": ".py",
   "mimetype": "text/x-python",
   "name": "python",
   "nbconvert_exporter": "python",
   "pygments_lexer": "ipython3",
   "version": "3.12.9"
  }
 },
 "nbformat": 4,
 "nbformat_minor": 5
}
