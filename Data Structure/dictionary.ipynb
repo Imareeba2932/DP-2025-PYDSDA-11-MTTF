{
 "cells": [
  {
   "cell_type": "code",
   "execution_count": 1,
   "id": "c3a55976",
   "metadata": {},
   "outputs": [
    {
     "name": "stdout",
     "output_type": "stream",
     "text": [
      "{'name': 'John', 'age': 20, 'city': 'New York'}\n"
     ]
    }
   ],
   "source": [
    "student = {\n",
    "    'name' : 'John',\n",
    "    'age' : int(input(\"Enter your age: \")),\n",
    "    'city' : 'New York',\n",
    "}\n",
    "print(student)"
   ]
  },
  {
   "cell_type": "markdown",
   "id": "cc9229d9",
   "metadata": {},
   "source": [
    "- ways to define a dictionary\n",
    "- to access key value pairs in dictionary\n",
    "- loops in dictionary\n",
    "- nested dictionary"
   ]
  },
  {
   "cell_type": "code",
   "execution_count": 2,
   "id": "fa4443ad",
   "metadata": {},
   "outputs": [
    {
     "name": "stdout",
     "output_type": "stream",
     "text": [
      "{'name': 'alice', 'age': 22, 'city': 'Los Angeles', 'course': 'Data Science'}\n"
     ]
    }
   ],
   "source": [
    "info = dict(name = input(\"Enter your name\"), age = 22, city = 'Los Angeles', course = 'Data Science')\n",
    "print(info)"
   ]
  },
  {
   "cell_type": "code",
   "execution_count": 3,
   "id": "cd0f7c86",
   "metadata": {},
   "outputs": [
    {
     "name": "stdout",
     "output_type": "stream",
     "text": [
      "{'lucknow': [35, 40, 45], 'delhi': [30, 35, 40], 'mumbai': [28, 30, 32], 'chennai': [30, 32, 34]}\n"
     ]
    }
   ],
   "source": [
    "temp = {\n",
    "    'lucknow' : [35,40,45],\n",
    "    'delhi' : [30,35,40],\n",
    "    'mumbai' : [28,30,32],\n",
    "    'chennai' : [30,32,34],\n",
    "}\n",
    "print(temp)"
   ]
  },
  {
   "cell_type": "code",
   "execution_count": 4,
   "id": "c5e07502",
   "metadata": {},
   "outputs": [
    {
     "name": "stdout",
     "output_type": "stream",
     "text": [
      "John\n",
      "20\n"
     ]
    }
   ],
   "source": [
    "#1st method to access key-value pairs\n",
    "print(student['name'])\n",
    "print(student['age'])"
   ]
  },
  {
   "cell_type": "code",
   "execution_count": 5,
   "id": "94dc0caf",
   "metadata": {},
   "outputs": [
    {
     "name": "stdout",
     "output_type": "stream",
     "text": [
      "New York\n",
      "Data Science\n"
     ]
    }
   ],
   "source": [
    "#2nd method to access key-value pairs\n",
    "print(student.get('city'))\n",
    "print(info.get('course'))"
   ]
  },
  {
   "cell_type": "code",
   "execution_count": 6,
   "id": "7f79b753",
   "metadata": {},
   "outputs": [
    {
     "name": "stdout",
     "output_type": "stream",
     "text": [
      "dict_keys(['name', 'age', 'city'])\n",
      "dict_values(['John', 20, 'New York'])\n",
      "dict_items([('name', 'John'), ('age', 20), ('city', 'New York')])\n"
     ]
    }
   ],
   "source": [
    "print(student.keys())\n",
    "print(student.values())\n",
    "print(student.items())"
   ]
  },
  {
   "cell_type": "code",
   "execution_count": 7,
   "id": "701a62a2",
   "metadata": {},
   "outputs": [
    {
     "name": "stdout",
     "output_type": "stream",
     "text": [
      "name : John\n",
      "age : 20\n",
      "city : New York\n"
     ]
    }
   ],
   "source": [
    "for k,v in student.items():\n",
    "    print(f\"{k} : {v}\")"
   ]
  },
  {
   "cell_type": "code",
   "execution_count": 8,
   "id": "8ffae7ca",
   "metadata": {},
   "outputs": [
    {
     "name": "stdout",
     "output_type": "stream",
     "text": [
      "sum is 15\n",
      "sum of 10 and 5 is 15\n",
      "sum of 10 and 5 is 15\n"
     ]
    }
   ],
   "source": [
    "a = 10\n",
    "b = 5\n",
    "sum = a + b\n",
    "print(\"sum is\", sum)\n",
    "print(\"sum of\",a,\"and\",b,\"is\",sum)\n",
    "print(f\"sum of {a} and {b} is {sum}\")"
   ]
  },
  {
   "cell_type": "code",
   "execution_count": 9,
   "id": "a7f0eb44",
   "metadata": {},
   "outputs": [],
   "source": [
    "#to add a new key-value pair\n",
    "student['grade'] = 'A'"
   ]
  },
  {
   "cell_type": "code",
   "execution_count": 10,
   "id": "8d689fb2",
   "metadata": {},
   "outputs": [
    {
     "name": "stdout",
     "output_type": "stream",
     "text": [
      "{'name': 'John', 'age': 20, 'city': 'New York', 'grade': 'A'}\n"
     ]
    }
   ],
   "source": [
    "print(student)"
   ]
  },
  {
   "cell_type": "code",
   "execution_count": 11,
   "id": "948f5539",
   "metadata": {},
   "outputs": [
    {
     "name": "stdout",
     "output_type": "stream",
     "text": [
      "{'name': 'John', 'age': 20, 'grade': 'A'}\n"
     ]
    }
   ],
   "source": [
    "# to remove a key-value pair\n",
    "student.pop('city', None)  # Using None to avoid KeyError if 'city' does not exist\n",
    "print(student)"
   ]
  },
  {
   "cell_type": "code",
   "execution_count": 12,
   "id": "949bb7da",
   "metadata": {},
   "outputs": [
    {
     "name": "stdout",
     "output_type": "stream",
     "text": [
      "{'name': 'John', 'age': 20, 'grade': 'A'}\n"
     ]
    }
   ],
   "source": [
    "student.pop(\"father's name\", None)\n",
    "print(student)"
   ]
  },
  {
   "cell_type": "code",
   "execution_count": 13,
   "id": "25a3fe0a",
   "metadata": {},
   "outputs": [
    {
     "name": "stdout",
     "output_type": "stream",
     "text": [
      "{'name': 'John', 'age': 21, 'grade': 'A'}\n"
     ]
    }
   ],
   "source": [
    "# to update an existing key-value pair\n",
    "student['age'] = 21\n",
    "print(student)"
   ]
  },
  {
   "cell_type": "code",
   "execution_count": 14,
   "id": "40147d23",
   "metadata": {},
   "outputs": [
    {
     "name": "stdout",
     "output_type": "stream",
     "text": [
      "{'emp001': {'name': 'Alice', 'age': 30, 'department': 'HR', 'salary': 60000}, 'emp002': {'name': 'Bob', 'age': 28, 'department': 'IT', 'salary': 70000}, 'emp003': {'name': 'Charlie', 'age': 35, 'department': 'Finance', 'salary': 80000}}\n"
     ]
    }
   ],
   "source": [
    "#nested dictionary\n",
    "company = {\n",
    "    'emp001' : {\n",
    "        'name' : 'Alice',\n",
    "        'age' : 30,\n",
    "        'department' : 'HR',\n",
    "        'salary' : 60000\n",
    "    },\n",
    "    'emp002' : {\n",
    "        'name' : 'Bob',\n",
    "        'age' : 28,\n",
    "        'department' : 'IT',\n",
    "        'salary' : 70000\n",
    "    },\n",
    "    'emp003' : {\n",
    "        'name' : 'Charlie', \n",
    "        'age' : 35,\n",
    "        'department' : 'Finance',\n",
    "        'salary' : 80000\n",
    "    }\n",
    "}\n",
    "print(company)"
   ]
  },
  {
   "cell_type": "code",
   "execution_count": 15,
   "id": "5a1267aa",
   "metadata": {},
   "outputs": [],
   "source": [
    "from pprint import pprint"
   ]
  },
  {
   "cell_type": "code",
   "execution_count": 16,
   "id": "f3831ee5",
   "metadata": {},
   "outputs": [
    {
     "name": "stdout",
     "output_type": "stream",
     "text": [
      "{'emp001': {'age': 30, 'department': 'HR', 'name': 'Alice', 'salary': 60000},\n",
      " 'emp002': {'age': 28, 'department': 'IT', 'name': 'Bob', 'salary': 70000},\n",
      " 'emp003': {'age': 35,\n",
      "            'department': 'Finance',\n",
      "            'name': 'Charlie',\n",
      "            'salary': 80000}}\n"
     ]
    }
   ],
   "source": [
    "pprint(company)"
   ]
  },
  {
   "cell_type": "code",
   "execution_count": 17,
   "id": "dfb79a2a",
   "metadata": {},
   "outputs": [
    {
     "data": {
      "text/plain": [
       "70000"
      ]
     },
     "execution_count": 17,
     "metadata": {},
     "output_type": "execute_result"
    }
   ],
   "source": [
    "company['emp002']['salary']"
   ]
  },
  {
   "cell_type": "code",
   "execution_count": 19,
   "id": "abc6392d",
   "metadata": {},
   "outputs": [
    {
     "ename": "TypeError",
     "evalue": "'int' object is not callable",
     "output_type": "error",
     "traceback": [
      "\u001b[31m---------------------------------------------------------------------------\u001b[39m",
      "\u001b[31mTypeError\u001b[39m                                 Traceback (most recent call last)",
      "\u001b[36mCell\u001b[39m\u001b[36m \u001b[39m\u001b[32mIn[19]\u001b[39m\u001b[32m, line 1\u001b[39m\n\u001b[32m----> \u001b[39m\u001b[32m1\u001b[39m \u001b[38;5;28;43msum\u001b[39;49m\u001b[43m(\u001b[49m\u001b[43mtemp\u001b[49m\u001b[43m[\u001b[49m\u001b[33;43m'\u001b[39;49m\u001b[33;43mdelhi\u001b[39;49m\u001b[33;43m'\u001b[39;49m\u001b[43m]\u001b[49m\u001b[43m)\u001b[49m/\u001b[38;5;28mlen\u001b[39m(temp[\u001b[33m'\u001b[39m\u001b[33mdelhi\u001b[39m\u001b[33m'\u001b[39m])\n",
      "\u001b[31mTypeError\u001b[39m: 'int' object is not callable"
     ]
    }
   ],
   "source": [
    "sum(temp['delhi'])/len(temp['delhi'])"
   ]
  },
  {
   "cell_type": "code",
   "execution_count": null,
   "id": "92835345",
   "metadata": {},
   "outputs": [],
   "source": []
  }
 ],
 "metadata": {
  "kernelspec": {
   "display_name": "base",
   "language": "python",
   "name": "python3"
  },
  "language_info": {
   "codemirror_mode": {
    "name": "ipython",
    "version": 3
   },
   "file_extension": ".py",
   "mimetype": "text/x-python",
   "name": "python",
   "nbconvert_exporter": "python",
   "pygments_lexer": "ipython3",
   "version": "3.12.9"
  }
 },
 "nbformat": 4,
 "nbformat_minor": 5
}
