{
 "cells": [
  {
   "cell_type": "markdown",
   "id": "c053eb13",
   "metadata": {},
   "source": [
    "# heading\n",
    "### heading\n",
    "###### heading"
   ]
  },
  {
   "cell_type": "markdown",
   "id": "649dac1f",
   "metadata": {},
   "source": [
    "- point1\n",
    "    - subpoint1\n",
    "    - subpoint2\n",
    "- point2\n",
    "- point3"
   ]
  },
  {
   "cell_type": "code",
   "execution_count": 1,
   "id": "c0dde02e",
   "metadata": {},
   "outputs": [
    {
     "name": "stdout",
     "output_type": "stream",
     "text": [
      "10\n"
     ]
    }
   ],
   "source": [
    "a = 10\n",
    "print(a)"
   ]
  },
  {
   "cell_type": "code",
   "execution_count": null,
   "id": "ea130686",
   "metadata": {},
   "outputs": [],
   "source": []
  },
  {
   "cell_type": "code",
   "execution_count": null,
   "id": "2de2f2b8",
   "metadata": {},
   "outputs": [],
   "source": []
  },
  {
   "cell_type": "code",
   "execution_count": null,
   "id": "77ec72fd",
   "metadata": {},
   "outputs": [],
   "source": []
  }
 ],
 "metadata": {
  "kernelspec": {
   "display_name": "base",
   "language": "python",
   "name": "python3"
  },
  "language_info": {
   "codemirror_mode": {
    "name": "ipython",
    "version": 3
   },
   "file_extension": ".py",
   "mimetype": "text/x-python",
   "name": "python",
   "nbconvert_exporter": "python",
   "pygments_lexer": "ipython3",
   "version": "3.12.9"
  }
 },
 "nbformat": 4,
 "nbformat_minor": 5
}
