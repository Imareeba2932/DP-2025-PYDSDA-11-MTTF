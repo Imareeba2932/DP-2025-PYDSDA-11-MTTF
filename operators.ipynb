{
 "cells": [
  {
   "cell_type": "code",
   "execution_count": 4,
   "id": "2e3a33f9",
   "metadata": {},
   "outputs": [
    {
     "name": "stdout",
     "output_type": "stream",
     "text": [
      "Add kro bro : 13\n",
      "subract kro bro : 7\n",
      "multiply kro bro : 30\n",
      "divide kro bro : 3.3333333333333335\n",
      "floor divide kro bro : 3\n",
      "Modulus : 1\n",
      "Exponent : 1000\n"
     ]
    }
   ],
   "source": [
    "a = 10\n",
    "b = 3\n",
    "# ab hum arithmetic operator pdhngye\n",
    "print (\"Add kro bro :\", a + b)\n",
    "print (\"subract kro bro :\", a - b)\n",
    "print (\"multiply kro bro :\", a * b)\n",
    "print (\"divide kro bro :\", a / b)\n",
    "print (\"floor divide kro bro :\", a // b)\n",
    "print (\"Modulus :\", a % b)\n",
    "print (\"Exponent :\", a ** b)\n"
   ]
  },
  {
   "cell_type": "code",
   "execution_count": 6,
   "id": "bb839763",
   "metadata": {},
   "outputs": [
    {
     "name": "stdout",
     "output_type": "stream",
     "text": [
      "x += 2: 12\n",
      "x -= 4: 8\n",
      "x *= 3: 24\n",
      "x /= 6: 4.0\n",
      "x %= 3: 1.0\n"
     ]
    }
   ],
   "source": [
    "x = 10\n",
    "# ab apun krnge assignment operators\n",
    "\n",
    "x += 2\n",
    "print(\"x += 2:\",x)\n",
    "\n",
    "x -= 4\n",
    "print(\"x -= 4:\",x)\n",
    "\n",
    "x *= 3\n",
    "print(\"x *= 3:\",x)\n",
    "\n",
    "x /= 6\n",
    "print(\"x /= 6:\",x)\n",
    "\n",
    "x %= 3\n",
    "print(\"x %= 3:\",x)"
   ]
  },
  {
   "cell_type": "code",
   "execution_count": null,
   "id": "99d08019",
   "metadata": {},
   "outputs": [
    {
     "name": "stdout",
     "output_type": "stream",
     "text": [
      "x == y: False\n",
      "x != y: True\n",
      "x > y: False\n",
      "x < y: True\n",
      "x >= y: False\n",
      "x <= y: True\n"
     ]
    }
   ],
   "source": [
    "x = 5\n",
    "y = 10\n",
    "# Comparision operator\n",
    "print(\"x == y:\", x == y)\n",
    "print(\"x != y:\", x != y)\n",
    "print(\"x > y:\", x > y)\n",
    "print(\"x < y:\", x < y)\n",
    "print(\"x >= y:\", x >= y)\n",
    "print(\"x <= y:\", x <= y)\n"
   ]
  },
  {
   "cell_type": "code",
   "execution_count": 10,
   "id": "ba5d4197",
   "metadata": {},
   "outputs": [
    {
     "name": "stdout",
     "output_type": "stream",
     "text": [
      "True\n",
      "False\n"
     ]
    }
   ],
   "source": [
    "a = 10\n",
    "b = 5\n",
    "# logical operator\n",
    "#and logical operator\n",
    "print(a > 5 and b > 2)\n",
    "\n",
    "print(a > 5 and b < 2)\n"
   ]
  },
  {
   "cell_type": "code",
   "execution_count": 11,
   "id": "39bf36b8",
   "metadata": {},
   "outputs": [
    {
     "name": "stdout",
     "output_type": "stream",
     "text": [
      "True\n",
      "False\n"
     ]
    }
   ],
   "source": [
    "# or logical operator\n",
    "\n",
    "x = 3\n",
    "y = 7\n",
    "print(x > 5 or y > 5)\n",
    "print(x > 5 or y < 5)"
   ]
  },
  {
   "cell_type": "code",
   "execution_count": 12,
   "id": "316cc533",
   "metadata": {},
   "outputs": [
    {
     "name": "stdout",
     "output_type": "stream",
     "text": [
      "False\n",
      "True\n"
     ]
    }
   ],
   "source": [
    "# not logical operator\n",
    "\n",
    "z = 8\n",
    "print (not z > 5)\n",
    "print (not z < 5)"
   ]
  },
  {
   "cell_type": "code",
   "execution_count": 14,
   "id": "38cbf851",
   "metadata": {},
   "outputs": [
    {
     "name": "stdout",
     "output_type": "stream",
     "text": [
      "True\n",
      "False\n",
      "True\n"
     ]
    }
   ],
   "source": [
    "#Membership operators\n",
    "fruits = [\"apple\",\"cherry\",\"mango\"]\n",
    "print(\"apple\" in fruits)\n",
    "print(\"grape\" in fruits)\n",
    "print (\"orange\" not in fruits) "
   ]
  },
  {
   "cell_type": "code",
   "execution_count": null,
   "id": "8978b641",
   "metadata": {},
   "outputs": [
    {
     "name": "stdout",
     "output_type": "stream",
     "text": [
      "True\n",
      "True\n",
      "False\n",
      "True\n"
     ]
    }
   ],
   "source": [
    "# Identity operator \n",
    "x = 10\n",
    "y = 10\n",
    "z = 20\n",
    "print(x == y) #True = same value\n",
    "print(x is y) #True = same object \n",
    "print(x is z) #False = different value + different object\n",
    "print(x is not z)#True = x and z are not same object"
   ]
  }
 ],
 "metadata": {
  "kernelspec": {
   "display_name": "base",
   "language": "python",
   "name": "python3"
  },
  "language_info": {
   "codemirror_mode": {
    "name": "ipython",
    "version": 3
   },
   "file_extension": ".py",
   "mimetype": "text/x-python",
   "name": "python",
   "nbconvert_exporter": "python",
   "pygments_lexer": "ipython3",
   "version": "3.12.9"
  }
 },
 "nbformat": 4,
 "nbformat_minor": 5
}
