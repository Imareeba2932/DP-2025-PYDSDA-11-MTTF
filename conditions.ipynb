{
 "cells": [
  {
   "cell_type": "markdown",
   "id": "94ad7a23",
   "metadata": {},
   "source": [
    "Condition ka matlab hota hai - kisi situation ke base pr decision lena\n",
    "\n",
    "Python me hum condition likhne ke liye if,else,elif use krte hain"
   ]
  },
  {
   "cell_type": "code",
   "execution_count": 1,
   "id": "c0e062fe",
   "metadata": {},
   "outputs": [
    {
     "name": "stdout",
     "output_type": "stream",
     "text": [
      "You can vote ✅\n"
     ]
    }
   ],
   "source": [
    "# if statement\n",
    "\n",
    "age = 20\n",
    "if age >= 18:\n",
    "    print(\"You can vote ✅\")"
   ]
  },
  {
   "cell_type": "code",
   "execution_count": 1,
   "id": "eb428dcd",
   "metadata": {},
   "outputs": [
    {
     "name": "stdout",
     "output_type": "stream",
     "text": [
      "sides are not equal\n"
     ]
    }
   ],
   "source": [
    "side1 = 10\n",
    "side2 = 5\n",
    "if side1 == side2:\n",
    "    print(\"Sides are equal\")\n",
    "else:\n",
    "    print(\"sides are not equal\")"
   ]
  },
  {
   "cell_type": "code",
   "execution_count": 2,
   "id": "06f6f873",
   "metadata": {},
   "outputs": [
    {
     "name": "stdout",
     "output_type": "stream",
     "text": [
      "Iscoseles\n"
     ]
    }
   ],
   "source": [
    "s1 = 10\n",
    "s2 = 10\n",
    "s3 = 5\n",
    "if s1 == s2 == s3:\n",
    "    print(\"Equilateral\")\n",
    "elif s1 == s2 or s2 == s3 or s3 == s1:\n",
    "    print('Iscoseles')\n",
    "else:\n",
    "    print('Scalene')"
   ]
  },
  {
   "cell_type": "code",
   "execution_count": 3,
   "id": "4af0521a",
   "metadata": {},
   "outputs": [
    {
     "name": "stdout",
     "output_type": "stream",
     "text": [
      "no leap year\n"
     ]
    }
   ],
   "source": [
    "year = 2014\n",
    "if (year % 4 == 0 and year % 100 != 0) or (year % 400 == 0):\n",
    "    print(\"leap year\")\n",
    "else:\n",
    "    print('no leap year')"
   ]
  },
  {
   "cell_type": "code",
   "execution_count": null,
   "id": "01441196",
   "metadata": {},
   "outputs": [],
   "source": []
  }
 ],
 "metadata": {
  "kernelspec": {
   "display_name": "base",
   "language": "python",
   "name": "python3"
  },
  "language_info": {
   "codemirror_mode": {
    "name": "ipython",
    "version": 3
   },
   "file_extension": ".py",
   "mimetype": "text/x-python",
   "name": "python",
   "nbconvert_exporter": "python",
   "pygments_lexer": "ipython3",
   "version": "3.12.9"
  }
 },
 "nbformat": 4,
 "nbformat_minor": 5
}
